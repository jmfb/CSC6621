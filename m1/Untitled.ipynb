{
 "cells": [
  {
   "cell_type": "markdown",
   "id": "c309f9fe-cf72-42ed-ac5f-f471fab59e0c",
   "metadata": {},
   "source": [
    "# Exploring SVMs\n",
    "\n",
    "* *Project:* M1: Mini Project\n",
    "* *Author:* Jacob Buysse\n",
    "\n",
    "In this project we are going to explore SVMs and compare them to other classification models using the Iris dataset.\n",
    "\n",
    "In this notebook we will be using..."
   ]
  },
  {
   "cell_type": "code",
   "execution_count": 37,
   "id": "da4ac360-b78a-45aa-aae1-db9bec8e62a6",
   "metadata": {},
   "outputs": [],
   "source": [
    "from sklearn import datasets\n",
    "from sklearn.preprocessing import StandardScaler\n",
    "from sklearn.model_selection import train_test_split\n",
    "from sklearn.metrics import confusion_matrix, classification_report\n",
    "from sklearn.svm import SVC, LinearSVC"
   ]
  },
  {
   "cell_type": "markdown",
   "id": "a47f9649-fb75-4a9b-962a-52a5df29249a",
   "metadata": {},
   "source": [
    "Let us load the Iris dataset and view the head/info/describe results."
   ]
  },
  {
   "cell_type": "code",
   "execution_count": 14,
   "id": "385865ec-ac83-4b52-b9a3-8bd71d97772f",
   "metadata": {},
   "outputs": [
    {
     "data": {
      "text/html": [
       "<div>\n",
       "<style scoped>\n",
       "    .dataframe tbody tr th:only-of-type {\n",
       "        vertical-align: middle;\n",
       "    }\n",
       "\n",
       "    .dataframe tbody tr th {\n",
       "        vertical-align: top;\n",
       "    }\n",
       "\n",
       "    .dataframe thead th {\n",
       "        text-align: right;\n",
       "    }\n",
       "</style>\n",
       "<table border=\"1\" class=\"dataframe\">\n",
       "  <thead>\n",
       "    <tr style=\"text-align: right;\">\n",
       "      <th></th>\n",
       "      <th>sepal length (cm)</th>\n",
       "      <th>sepal width (cm)</th>\n",
       "      <th>petal length (cm)</th>\n",
       "      <th>petal width (cm)</th>\n",
       "      <th>target</th>\n",
       "    </tr>\n",
       "  </thead>\n",
       "  <tbody>\n",
       "    <tr>\n",
       "      <th>0</th>\n",
       "      <td>5.1</td>\n",
       "      <td>3.5</td>\n",
       "      <td>1.4</td>\n",
       "      <td>0.2</td>\n",
       "      <td>0</td>\n",
       "    </tr>\n",
       "    <tr>\n",
       "      <th>1</th>\n",
       "      <td>4.9</td>\n",
       "      <td>3.0</td>\n",
       "      <td>1.4</td>\n",
       "      <td>0.2</td>\n",
       "      <td>0</td>\n",
       "    </tr>\n",
       "    <tr>\n",
       "      <th>2</th>\n",
       "      <td>4.7</td>\n",
       "      <td>3.2</td>\n",
       "      <td>1.3</td>\n",
       "      <td>0.2</td>\n",
       "      <td>0</td>\n",
       "    </tr>\n",
       "    <tr>\n",
       "      <th>3</th>\n",
       "      <td>4.6</td>\n",
       "      <td>3.1</td>\n",
       "      <td>1.5</td>\n",
       "      <td>0.2</td>\n",
       "      <td>0</td>\n",
       "    </tr>\n",
       "    <tr>\n",
       "      <th>4</th>\n",
       "      <td>5.0</td>\n",
       "      <td>3.6</td>\n",
       "      <td>1.4</td>\n",
       "      <td>0.2</td>\n",
       "      <td>0</td>\n",
       "    </tr>\n",
       "  </tbody>\n",
       "</table>\n",
       "</div>"
      ],
      "text/plain": [
       "   sepal length (cm)  sepal width (cm)  petal length (cm)  petal width (cm)  \\\n",
       "0                5.1               3.5                1.4               0.2   \n",
       "1                4.9               3.0                1.4               0.2   \n",
       "2                4.7               3.2                1.3               0.2   \n",
       "3                4.6               3.1                1.5               0.2   \n",
       "4                5.0               3.6                1.4               0.2   \n",
       "\n",
       "   target  \n",
       "0       0  \n",
       "1       0  \n",
       "2       0  \n",
       "3       0  \n",
       "4       0  "
      ]
     },
     "execution_count": 14,
     "metadata": {},
     "output_type": "execute_result"
    }
   ],
   "source": [
    "iris = datasets.load_iris(as_frame=True)\n",
    "df = iris.frame\n",
    "df.head()"
   ]
  },
  {
   "cell_type": "code",
   "execution_count": 8,
   "id": "335adb86-ed00-4542-82dd-0ed990e87a26",
   "metadata": {},
   "outputs": [
    {
     "name": "stdout",
     "output_type": "stream",
     "text": [
      "<class 'pandas.core.frame.DataFrame'>\n",
      "RangeIndex: 150 entries, 0 to 149\n",
      "Data columns (total 5 columns):\n",
      " #   Column             Non-Null Count  Dtype  \n",
      "---  ------             --------------  -----  \n",
      " 0   sepal length (cm)  150 non-null    float64\n",
      " 1   sepal width (cm)   150 non-null    float64\n",
      " 2   petal length (cm)  150 non-null    float64\n",
      " 3   petal width (cm)   150 non-null    float64\n",
      " 4   target             150 non-null    int32  \n",
      "dtypes: float64(4), int32(1)\n",
      "memory usage: 5.4 KB\n"
     ]
    }
   ],
   "source": [
    "df.info()"
   ]
  },
  {
   "cell_type": "code",
   "execution_count": 9,
   "id": "f4adabca-a985-4428-a01f-19b966dc6484",
   "metadata": {},
   "outputs": [
    {
     "data": {
      "text/html": [
       "<div>\n",
       "<style scoped>\n",
       "    .dataframe tbody tr th:only-of-type {\n",
       "        vertical-align: middle;\n",
       "    }\n",
       "\n",
       "    .dataframe tbody tr th {\n",
       "        vertical-align: top;\n",
       "    }\n",
       "\n",
       "    .dataframe thead th {\n",
       "        text-align: right;\n",
       "    }\n",
       "</style>\n",
       "<table border=\"1\" class=\"dataframe\">\n",
       "  <thead>\n",
       "    <tr style=\"text-align: right;\">\n",
       "      <th></th>\n",
       "      <th>sepal length (cm)</th>\n",
       "      <th>sepal width (cm)</th>\n",
       "      <th>petal length (cm)</th>\n",
       "      <th>petal width (cm)</th>\n",
       "      <th>target</th>\n",
       "    </tr>\n",
       "  </thead>\n",
       "  <tbody>\n",
       "    <tr>\n",
       "      <th>count</th>\n",
       "      <td>150.000000</td>\n",
       "      <td>150.000000</td>\n",
       "      <td>150.000000</td>\n",
       "      <td>150.000000</td>\n",
       "      <td>150.000000</td>\n",
       "    </tr>\n",
       "    <tr>\n",
       "      <th>mean</th>\n",
       "      <td>5.843333</td>\n",
       "      <td>3.057333</td>\n",
       "      <td>3.758000</td>\n",
       "      <td>1.199333</td>\n",
       "      <td>1.000000</td>\n",
       "    </tr>\n",
       "    <tr>\n",
       "      <th>std</th>\n",
       "      <td>0.828066</td>\n",
       "      <td>0.435866</td>\n",
       "      <td>1.765298</td>\n",
       "      <td>0.762238</td>\n",
       "      <td>0.819232</td>\n",
       "    </tr>\n",
       "    <tr>\n",
       "      <th>min</th>\n",
       "      <td>4.300000</td>\n",
       "      <td>2.000000</td>\n",
       "      <td>1.000000</td>\n",
       "      <td>0.100000</td>\n",
       "      <td>0.000000</td>\n",
       "    </tr>\n",
       "    <tr>\n",
       "      <th>25%</th>\n",
       "      <td>5.100000</td>\n",
       "      <td>2.800000</td>\n",
       "      <td>1.600000</td>\n",
       "      <td>0.300000</td>\n",
       "      <td>0.000000</td>\n",
       "    </tr>\n",
       "    <tr>\n",
       "      <th>50%</th>\n",
       "      <td>5.800000</td>\n",
       "      <td>3.000000</td>\n",
       "      <td>4.350000</td>\n",
       "      <td>1.300000</td>\n",
       "      <td>1.000000</td>\n",
       "    </tr>\n",
       "    <tr>\n",
       "      <th>75%</th>\n",
       "      <td>6.400000</td>\n",
       "      <td>3.300000</td>\n",
       "      <td>5.100000</td>\n",
       "      <td>1.800000</td>\n",
       "      <td>2.000000</td>\n",
       "    </tr>\n",
       "    <tr>\n",
       "      <th>max</th>\n",
       "      <td>7.900000</td>\n",
       "      <td>4.400000</td>\n",
       "      <td>6.900000</td>\n",
       "      <td>2.500000</td>\n",
       "      <td>2.000000</td>\n",
       "    </tr>\n",
       "  </tbody>\n",
       "</table>\n",
       "</div>"
      ],
      "text/plain": [
       "       sepal length (cm)  sepal width (cm)  petal length (cm)  \\\n",
       "count         150.000000        150.000000         150.000000   \n",
       "mean            5.843333          3.057333           3.758000   \n",
       "std             0.828066          0.435866           1.765298   \n",
       "min             4.300000          2.000000           1.000000   \n",
       "25%             5.100000          2.800000           1.600000   \n",
       "50%             5.800000          3.000000           4.350000   \n",
       "75%             6.400000          3.300000           5.100000   \n",
       "max             7.900000          4.400000           6.900000   \n",
       "\n",
       "       petal width (cm)      target  \n",
       "count        150.000000  150.000000  \n",
       "mean           1.199333    1.000000  \n",
       "std            0.762238    0.819232  \n",
       "min            0.100000    0.000000  \n",
       "25%            0.300000    0.000000  \n",
       "50%            1.300000    1.000000  \n",
       "75%            1.800000    2.000000  \n",
       "max            2.500000    2.000000  "
      ]
     },
     "execution_count": 9,
     "metadata": {},
     "output_type": "execute_result"
    }
   ],
   "source": [
    "df.describe()"
   ]
  },
  {
   "cell_type": "markdown",
   "id": "48c32f58-3d2f-4318-8d0d-c103a2a6a4b2",
   "metadata": {},
   "source": [
    "So we have 150 records with four possible features and one target classification.  The features have the following ranges:\n",
    "* *sepal length* - 4.3cm to 7.9cm (5.8cm +/- 0.8cm)\n",
    "* *sepal width* - 2.0cm to 4.4cm (3.1cm +/- 0.4cm)\n",
    "* *petal length* - 1.0cm to 6.9cm (3.8 +/- 1.8cm)\n",
    "* *petal width* - 0.1cm to 2.5cm (1.2 +/- 0.8cm)"
   ]
  },
  {
   "cell_type": "code",
   "execution_count": 18,
   "id": "92f0e746-d8f7-4b39-9928-633864376d5d",
   "metadata": {},
   "outputs": [
    {
     "name": "stdout",
     "output_type": "stream",
     "text": [
      "target\n",
      "0    50\n",
      "1    50\n",
      "2    50\n",
      "Name: count, dtype: int64\n",
      "['setosa' 'versicolor' 'virginica']\n"
     ]
    }
   ],
   "source": [
    "print(f\"{df.target.value_counts()}\")\n",
    "print(f\"{iris.target_names}\")"
   ]
  },
  {
   "cell_type": "markdown",
   "id": "1ff8d16d-0940-4007-bf9e-9027cfabfddc",
   "metadata": {},
   "source": [
    "There appear to be three possible classifications with 50 samples each.\n",
    "* 0 - setosa\n",
    "* 1 - versicolor\n",
    "* 2 - virginica"
   ]
  },
  {
   "cell_type": "markdown",
   "id": "848a60aa-b970-4528-9936-8cb261ba2c02",
   "metadata": {},
   "source": [
    "## Part 1 - Unscaled Petal Length/Width SVM\n",
    "\n",
    "Let us use the unscaled petal length and width features to predict the target classification.\n",
    "We will use a 75/25 train/test split of the samples stratified over the target classifications."
   ]
  },
  {
   "cell_type": "code",
   "execution_count": 38,
   "id": "37dcf7aa-9c86-4fa5-b1b9-960a07d4ac8f",
   "metadata": {},
   "outputs": [
    {
     "name": "stdout",
     "output_type": "stream",
     "text": [
      "X_train 112, X_test 38, y_train 112, y_test 38\n"
     ]
    }
   ],
   "source": [
    "features = [\"petal length (cm)\", \"petal width (cm)\"]\n",
    "X = df[features].values\n",
    "y = df.target.values\n",
    "X_train, X_test, y_train, y_test = train_test_split(X, y, test_size=0.25, random_state=777, stratify=df.target)\n",
    "print(f\"X_train {len(X_train)}, X_test {len(X_test)}, y_train {len(y_train)}, y_test {len(y_test)}\")"
   ]
  },
  {
   "cell_type": "markdown",
   "id": "3a377c98-3049-41eb-bea1-4c539b4fbd65",
   "metadata": {},
   "source": [
    "That leaves us with 112 training samples and 38 testing samples.\n",
    "\n",
    "Let us define a helper method for scoring model results."
   ]
  },
  {
   "cell_type": "code",
   "execution_count": 39,
   "id": "eb8921e1-451a-4361-93d1-aa73782b6f9c",
   "metadata": {},
   "outputs": [],
   "source": [
    "def score_model(y_pred):\n",
    "    print(\"Confusion Matrix\")\n",
    "    print(f\"{confusion_matrix(y_test, y_pred)}\")\n",
    "    print(f\"{classification_report(y_test, y_pred)}\")"
   ]
  },
  {
   "cell_type": "markdown",
   "id": "a704a7f7-beeb-4e4e-9f38-9cb8d12fcf6a",
   "metadata": {},
   "source": [
    "Let us use an SVM with all default parameters (kernel = rbf, C = 1)"
   ]
  },
  {
   "cell_type": "code",
   "execution_count": 46,
   "id": "72f2b1f5-20d6-4084-8241-7a92bcba85f6",
   "metadata": {},
   "outputs": [
    {
     "name": "stdout",
     "output_type": "stream",
     "text": [
      "Confusion Matrix\n",
      "[[12  0  0]\n",
      " [ 0 12  1]\n",
      " [ 0  1 12]]\n",
      "              precision    recall  f1-score   support\n",
      "\n",
      "           0       1.00      1.00      1.00        12\n",
      "           1       0.92      0.92      0.92        13\n",
      "           2       0.92      0.92      0.92        13\n",
      "\n",
      "    accuracy                           0.95        38\n",
      "   macro avg       0.95      0.95      0.95        38\n",
      "weighted avg       0.95      0.95      0.95        38\n",
      "\n"
     ]
    }
   ],
   "source": [
    "model = SVC(random_state=777).fit(X_train, y_train)\n",
    "score_model(model.predict(X_test))"
   ]
  },
  {
   "cell_type": "markdown",
   "id": "c3dff7e4-9906-4a13-871e-4fee6e26fb9d",
   "metadata": {},
   "source": [
    "We had an overall F1-score of 95%.  We incorrectly labeled one versicolor and one virginica out of the 38 testing samples.\n",
    "\n",
    "Now let us scale our features and try again."
   ]
  },
  {
   "cell_type": "code",
   "execution_count": 45,
   "id": "a7a5ab93-83c9-40d6-b133-37cfeab6b8a7",
   "metadata": {},
   "outputs": [
    {
     "name": "stdout",
     "output_type": "stream",
     "text": [
      "Confusion Matrix\n",
      "[[12  0  0]\n",
      " [ 0 11  2]\n",
      " [ 0  1 12]]\n",
      "              precision    recall  f1-score   support\n",
      "\n",
      "           0       1.00      1.00      1.00        12\n",
      "           1       0.92      0.85      0.88        13\n",
      "           2       0.86      0.92      0.89        13\n",
      "\n",
      "    accuracy                           0.92        38\n",
      "   macro avg       0.92      0.92      0.92        38\n",
      "weighted avg       0.92      0.92      0.92        38\n",
      "\n"
     ]
    }
   ],
   "source": [
    "scaler = StandardScaler()\n",
    "scaler.fit(X_train)\n",
    "model = SVC(random_state=777).fit(scaler.transform(X_train), y_train)\n",
    "score_model(model.predict(scaler.transform(X_test)))"
   ]
  },
  {
   "cell_type": "markdown",
   "id": "b74dac7a-fee4-42e1-b11e-dc6be022e836",
   "metadata": {},
   "source": [
    "We did slightly worse by incorrectly labelling one more versicolor which dropped our overall F1-score down to 92%."
   ]
  },
  {
   "cell_type": "markdown",
   "id": "0210bf89-332e-4369-99aa-6d8690b3734a",
   "metadata": {},
   "source": [
    "Let us try dropping the C regularization parameter down from 1 to 0.1."
   ]
  },
  {
   "cell_type": "code",
   "execution_count": 53,
   "id": "6c99bd09-3041-4119-827e-9571ac7e8cb8",
   "metadata": {},
   "outputs": [
    {
     "name": "stdout",
     "output_type": "stream",
     "text": [
      "Confusion Matrix\n",
      "[[12  0  0]\n",
      " [ 0 12  1]\n",
      " [ 0  1 12]]\n",
      "              precision    recall  f1-score   support\n",
      "\n",
      "           0       1.00      1.00      1.00        12\n",
      "           1       0.92      0.92      0.92        13\n",
      "           2       0.92      0.92      0.92        13\n",
      "\n",
      "    accuracy                           0.95        38\n",
      "   macro avg       0.95      0.95      0.95        38\n",
      "weighted avg       0.95      0.95      0.95        38\n",
      "\n"
     ]
    }
   ],
   "source": [
    "model = SVC(C=0.1, random_state=777).fit(scaler.transform(X_train), y_train)\n",
    "score_model(model.predict(scaler.transform(X_test)))"
   ]
  },
  {
   "cell_type": "markdown",
   "id": "97ea285a-dad3-41f2-bbab-68b2913c3303",
   "metadata": {},
   "source": [
    "This returned the overall F1-score back to 95%."
   ]
  },
  {
   "cell_type": "markdown",
   "id": "a1e53965-852b-4bb0-a707-cae78523b31e",
   "metadata": {},
   "source": [
    "Let us try a poly kernel function instead of the rbf kernel."
   ]
  },
  {
   "cell_type": "code",
   "execution_count": 75,
   "id": "5640f8a0-735d-45cb-ab68-c196d33f730f",
   "metadata": {},
   "outputs": [
    {
     "name": "stdout",
     "output_type": "stream",
     "text": [
      "Confusion Matrix\n",
      "[[12  0  0]\n",
      " [ 0 13  0]\n",
      " [ 0  1 12]]\n",
      "              precision    recall  f1-score   support\n",
      "\n",
      "           0       1.00      1.00      1.00        12\n",
      "           1       0.93      1.00      0.96        13\n",
      "           2       1.00      0.92      0.96        13\n",
      "\n",
      "    accuracy                           0.97        38\n",
      "   macro avg       0.98      0.97      0.97        38\n",
      "weighted avg       0.98      0.97      0.97        38\n",
      "\n"
     ]
    }
   ],
   "source": [
    "model = SVC(kernel='poly', degree=3, random_state=777).fit(scaler.transform(X_train), y_train)\n",
    "score_model(model.predict(scaler.transform(X_test)))"
   ]
  },
  {
   "cell_type": "markdown",
   "id": "0a48f3f7-8a20-4563-af7d-f305b4ea7f3e",
   "metadata": {},
   "source": [
    "This did even better by getting all of the versicolor correct and only one virgnica incorrect, raising the overall F1-score to 97%."
   ]
  },
  {
   "cell_type": "code",
   "execution_count": null,
   "id": "f720eb87-ef7a-4657-8441-c1788ce27775",
   "metadata": {},
   "outputs": [],
   "source": []
  }
 ],
 "metadata": {
  "kernelspec": {
   "display_name": "Python 3 (ipykernel)",
   "language": "python",
   "name": "python3"
  },
  "language_info": {
   "codemirror_mode": {
    "name": "ipython",
    "version": 3
   },
   "file_extension": ".py",
   "mimetype": "text/x-python",
   "name": "python",
   "nbconvert_exporter": "python",
   "pygments_lexer": "ipython3",
   "version": "3.11.5"
  }
 },
 "nbformat": 4,
 "nbformat_minor": 5
}
